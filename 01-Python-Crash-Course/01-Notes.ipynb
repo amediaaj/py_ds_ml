{
 "cells": [
  {
   "cell_type": "code",
   "execution_count": 1,
   "id": "ed192b5f-0c6b-4002-b4d8-99d47af528fa",
   "metadata": {},
   "outputs": [],
   "source": [
    "num = 12\n",
    "name = 'Sam'"
   ]
  },
  {
   "cell_type": "code",
   "execution_count": 4,
   "id": "ab894057-46d8-48ae-ad6a-7b4e690e3170",
   "metadata": {},
   "outputs": [
    {
     "name": "stdout",
     "output_type": "stream",
     "text": [
      "My number is 12 and my name is Sam\n"
     ]
    }
   ],
   "source": [
    "# String formatting\n",
    "print('My number is {} and my name is {}'.format(num, name))"
   ]
  },
  {
   "cell_type": "code",
   "execution_count": 8,
   "id": "df4af581-0d34-4355-97c3-5a23c11b5e58",
   "metadata": {},
   "outputs": [
    {
     "name": "stdout",
     "output_type": "stream",
     "text": [
      "My number is 12 and my name is Sam, again my number is 12\n"
     ]
    }
   ],
   "source": [
    "# Multiple insertions of a single variable\n",
    "print('My number is {one} and my name is {two}, again my number is {one}'.format(one=num, two=name))"
   ]
  },
  {
   "cell_type": "code",
   "execution_count": 9,
   "id": "2f233206-d6c8-4faf-8be2-a92795c2aa2d",
   "metadata": {},
   "outputs": [
    {
     "data": {
      "text/plain": [
       "'h'"
      ]
     },
     "execution_count": 9,
     "metadata": {},
     "output_type": "execute_result"
    }
   ],
   "source": [
    "# String characters by index\n",
    "s = 'hello'\n",
    "s[0]"
   ]
  },
  {
   "cell_type": "code",
   "execution_count": 10,
   "id": "fa7539ad-7474-4546-89a5-33a9db243da0",
   "metadata": {},
   "outputs": [
    {
     "data": {
      "text/plain": [
       "'abcde'"
      ]
     },
     "execution_count": 10,
     "metadata": {},
     "output_type": "execute_result"
    }
   ],
   "source": [
    "# String slicing\n",
    "s = 'abcdefghijk'\n",
    "s[0:5]"
   ]
  },
  {
   "cell_type": "code",
   "execution_count": 11,
   "id": "a1bd35fd-15d9-4da3-a179-1a3c51bfbed0",
   "metadata": {},
   "outputs": [
    {
     "data": {
      "text/plain": [
       "'kjihgfedcba'"
      ]
     },
     "execution_count": 11,
     "metadata": {},
     "output_type": "execute_result"
    }
   ],
   "source": [
    "# String reverse\n",
    "s[::-1]"
   ]
  },
  {
   "cell_type": "code",
   "execution_count": 12,
   "id": "397d6f75-00c6-4a6e-9488-81be6ea9da3d",
   "metadata": {},
   "outputs": [
    {
     "data": {
      "text/plain": [
       "'ace'"
      ]
     },
     "execution_count": 12,
     "metadata": {},
     "output_type": "execute_result"
    }
   ],
   "source": [
    "# String step\n",
    "s[0:5:2]"
   ]
  },
  {
   "cell_type": "code",
   "execution_count": 32,
   "id": "6d067c72-1b9c-4652-90be-4908df16622c",
   "metadata": {},
   "outputs": [
    {
     "name": "stdout",
     "output_type": "stream",
     "text": [
      "['a', 'b', 'c', [1, 2], 'd']\n",
      "[1, 2]\n",
      "2\n",
      "['a', 'b', 'c', 'NEW', 'd']\n"
     ]
    }
   ],
   "source": [
    "# Lists\n",
    "my_list = ['a', 'b', 'c', [1, 2]]\n",
    "[1, 2, 3]\n",
    "\n",
    "# Append\n",
    "my_list.append('d')\n",
    "print(my_list)\n",
    "# Print list in list\n",
    "print(my_list[3])\n",
    "# Print element of list in list\n",
    "print(my_list[3][1])\n",
    "# Reassign element of a list\n",
    "my_list[3] = 'NEW'\n",
    "print(my_list)"
   ]
  },
  {
   "cell_type": "code",
   "execution_count": null,
   "id": "e983e18c-e01a-4037-a14b-1f861896cf6e",
   "metadata": {},
   "outputs": [],
   "source": []
  }
 ],
 "metadata": {
  "kernelspec": {
   "display_name": "Python 3 (ipykernel)",
   "language": "python",
   "name": "python3"
  },
  "language_info": {
   "codemirror_mode": {
    "name": "ipython",
    "version": 3
   },
   "file_extension": ".py",
   "mimetype": "text/x-python",
   "name": "python",
   "nbconvert_exporter": "python",
   "pygments_lexer": "ipython3",
   "version": "3.12.7"
  }
 },
 "nbformat": 4,
 "nbformat_minor": 5
}
